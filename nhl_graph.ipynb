{
 "cells": [
  {
   "cell_type": "code",
   "execution_count": 1,
   "metadata": {},
   "outputs": [
    {
     "data": {
      "text/html": [
       "\n",
       "            <div>\n",
       "                <p><b>SparkSession - hive</b></p>\n",
       "                \n",
       "        <div>\n",
       "            <p><b>SparkContext</b></p>\n",
       "\n",
       "            <p><a href=\"http://xxxxxxxx.com:33452\">Spark UI</a></p>\n",
       "\n",
       "            <dl>\n",
       "              <dt>Version</dt>\n",
       "                <dd><code>v2.4.3</code></dd>\n",
       "              <dt>Master</dt>\n",
       "                <dd><code>yarn</code></dd>\n",
       "              <dt>AppName</dt>\n",
       "                <dd><code>pyspark-shell</code></dd>\n",
       "            </dl>\n",
       "        </div>\n",
       "        \n",
       "            </div>\n",
       "        "
      ],
      "text/plain": [
       "<pyspark.sql.session.SparkSession at 0x7fb60004c450>"
      ]
     },
     "execution_count": 1,
     "metadata": {},
     "output_type": "execute_result"
    }
   ],
   "source": [
    "spark"
   ]
  },
  {
   "cell_type": "code",
   "execution_count": 2,
   "metadata": {},
   "outputs": [],
   "source": [
    "import pyspark.sql.functions as F\n",
    "import pyspark.sql.types as T\n",
    "from datetime import datetime, timedelta\n",
    "import argparse"
   ]
  },
  {
   "cell_type": "markdown",
   "metadata": {},
   "source": [
    "# Edges"
   ]
  },
  {
   "cell_type": "markdown",
   "metadata": {},
   "source": [
    "##### Nacteni dat"
   ]
  },
  {
   "cell_type": "code",
   "execution_count": 6,
   "metadata": {},
   "outputs": [],
   "source": [
    "game_plays = sqlContext.read.option(\"header\", \"true\").option(\"delimiter\", \",\").csv(\"skola\")"
   ]
  },
  {
   "cell_type": "markdown",
   "metadata": {},
   "source": [
    "##### Filtrace play_id, ve kterych padl gol a sezony"
   ]
  },
  {
   "cell_type": "code",
   "execution_count": 12,
   "metadata": {},
   "outputs": [],
   "source": [
    "goals = game_plays.select('play_id').where(\"playerType = 'Scorer'\").where(\"game_id > 2017090000\")"
   ]
  },
  {
   "cell_type": "code",
   "execution_count": 160,
   "metadata": {},
   "outputs": [
    {
     "name": "stdout",
     "output_type": "stream",
     "text": [
      "+--------------+\n",
      "|       play_id|\n",
      "+--------------+\n",
      "| 2018020001_44|\n",
      "| 2018020001_68|\n",
      "|2018020001_213|\n",
      "+--------------+\n",
      "only showing top 3 rows\n",
      "\n"
     ]
    }
   ],
   "source": [
    "goals.show(3)"
   ]
  },
  {
   "cell_type": "markdown",
   "metadata": {},
   "source": [
    "##### Pravy join na game_plays"
   ]
  },
  {
   "cell_type": "code",
   "execution_count": 31,
   "metadata": {},
   "outputs": [],
   "source": [
    "goals_goalie = game_plays.join(goals, game_plays[\"play_id\"] == goals[\"play_id\"], how='right').withColumn('play_id_player',game_plays['play_id']).withColumn('play_id_goalie',game_plays['play_id'])"
   ]
  },
  {
   "cell_type": "code",
   "execution_count": 161,
   "metadata": {},
   "outputs": [
    {
     "name": "stdout",
     "output_type": "stream",
     "text": [
      "+--------------+----------+--------+---------+----------+--------------+--------------+--------------+\n",
      "|       play_id|   game_id|play_num|player_id|playerType|       play_id|play_id_player|play_id_goalie|\n",
      "+--------------+----------+--------+---------+----------+--------------+--------------+--------------+\n",
      "|2018020014_261|2018020014|     261|  8477930|    Scorer|2018020014_261|2018020014_261|2018020014_261|\n",
      "|2018020014_261|2018020014|     261|  8470880|    Goalie|2018020014_261|2018020014_261|2018020014_261|\n",
      "|  2018020020_9|2018020020|       9|  8475151|    Scorer|  2018020020_9|  2018020020_9|  2018020020_9|\n",
      "|  2018020020_9|2018020020|       9|  8476923|    Assist|  2018020020_9|  2018020020_9|  2018020020_9|\n",
      "|  2018020020_9|2018020020|       9|  8475660|    Goalie|  2018020020_9|  2018020020_9|  2018020020_9|\n",
      "+--------------+----------+--------+---------+----------+--------------+--------------+--------------+\n",
      "only showing top 5 rows\n",
      "\n"
     ]
    }
   ],
   "source": [
    "goals_goalie.show(5)"
   ]
  },
  {
   "cell_type": "code",
   "execution_count": 62,
   "metadata": {},
   "outputs": [],
   "source": [
    "players = goals_goalie.where(\"playerType = 'Scorer'\").select('play_id_player',F.col('game_id').alias('game_id_player'),F.col('player_id').alias('player_id_player'),F.col('playerType').alias('playerTypePlayer'))"
   ]
  },
  {
   "cell_type": "code",
   "execution_count": 63,
   "metadata": {},
   "outputs": [],
   "source": [
    "goalies = goals_goalie.where(\"playerType = 'Goalie'\").select('play_id_goalie',F.col('game_id').alias('game_id_goalie'),F.col('player_id').alias('player_id_goalie'),F.col('playerType').alias('playerTypeGoalie'))"
   ]
  },
  {
   "cell_type": "markdown",
   "metadata": {},
   "source": [
    "##### Inner join hracu a golmanu - zmena struktury"
   ]
  },
  {
   "cell_type": "code",
   "execution_count": 67,
   "metadata": {},
   "outputs": [],
   "source": [
    "df = players.join(goalies,players[\"play_id_player\"] == goalies[\"play_id_goalie\"])"
   ]
  },
  {
   "cell_type": "code",
   "execution_count": 162,
   "metadata": {},
   "outputs": [
    {
     "name": "stdout",
     "output_type": "stream",
     "text": [
      "+--------------+--------------+----------------+----------------+--------------+--------------+----------------+----------------+\n",
      "|play_id_player|game_id_player|player_id_player|playerTypePlayer|play_id_goalie|game_id_goalie|player_id_goalie|playerTypeGoalie|\n",
      "+--------------+--------------+----------------+----------------+--------------+--------------+----------------+----------------+\n",
      "|2018020014_261|    2018020014|         8477930|          Scorer|2018020014_261|    2018020014|         8470880|          Goalie|\n",
      "|  2018020020_9|    2018020020|         8475151|          Scorer|  2018020020_9|    2018020020|         8475660|          Goalie|\n",
      "|2018020084_115|    2018020084|         8476460|          Scorer|2018020084_115|    2018020084|         8475660|          Goalie|\n",
      "|2018020089_196|    2018020089|         8474641|          Scorer|2018020089_196|    2018020089|         8471306|          Goalie|\n",
      "|2018020092_128|    2018020092|         8474715|          Scorer|2018020092_128|    2018020092|         8475717|          Goalie|\n",
      "|2018020094_244|    2018020094|         8473412|          Scorer|2018020094_244|    2018020094|         8475195|          Goalie|\n",
      "|2018020098_289|    2018020098|         8470794|          Scorer|2018020098_289|    2018020098|         8475622|          Goalie|\n",
      "|2018020101_179|    2018020101|         8479314|          Scorer|2018020101_179|    2018020101|         8471469|          Goalie|\n",
      "|  2018020120_9|    2018020120|         8475158|          Scorer|  2018020120_9|    2018020120|         8476945|          Goalie|\n",
      "|2018020127_179|    2018020127|         8476483|          Scorer|2018020127_179|    2018020127|         8470645|          Goalie|\n",
      "+--------------+--------------+----------------+----------------+--------------+--------------+----------------+----------------+\n",
      "only showing top 10 rows\n",
      "\n"
     ]
    }
   ],
   "source": [
    "df.show(10)"
   ]
  },
  {
   "cell_type": "markdown",
   "metadata": {},
   "source": [
    "##### Vytvoreni vztahu hrac -> golman, pocet golu"
   ]
  },
  {
   "cell_type": "code",
   "execution_count": 94,
   "metadata": {},
   "outputs": [],
   "source": [
    "edges = df.groupBy('player_id_player','player_id_goalie').agg(F.count('*').alias('Goals'))"
   ]
  },
  {
   "cell_type": "code",
   "execution_count": 148,
   "metadata": {},
   "outputs": [],
   "source": [
    "final_edges = edges.select(F.col('player_id_player').alias('Source'),F.col('player_id_goalie').alias('Target'),'Goals').withColumn('Relationship',F.lit('GOAL'))"
   ]
  },
  {
   "cell_type": "code",
   "execution_count": 164,
   "metadata": {},
   "outputs": [
    {
     "name": "stdout",
     "output_type": "stream",
     "text": [
      "+-------+-------+-----+------------+\n",
      "| Source| Target|Goals|Relationship|\n",
      "+-------+-------+-----+------------+\n",
      "|8478366|8474651|    1|        GOAL|\n",
      "|8474884|8476876|    2|        GOAL|\n",
      "|8477511|8470860|    3|        GOAL|\n",
      "|8479337|8476343|    2|        GOAL|\n",
      "|8479395|8476914|    1|        GOAL|\n",
      "|8474679|8471306|    1|        GOAL|\n",
      "|8470047|8475195|    2|        GOAL|\n",
      "|8471709|8475831|    2|        GOAL|\n",
      "|8474009|8473575|    1|        GOAL|\n",
      "|8468508|8475195|    2|        GOAL|\n",
      "+-------+-------+-----+------------+\n",
      "only showing top 10 rows\n",
      "\n"
     ]
    }
   ],
   "source": [
    "final_edges.show(10)"
   ]
  },
  {
   "cell_type": "markdown",
   "metadata": {},
   "source": [
    "##### Export hran"
   ]
  },
  {
   "cell_type": "code",
   "execution_count": 151,
   "metadata": {},
   "outputs": [],
   "source": [
    "final_edges.repartition(1).write.csv('nhl_edges.csv',sep=\",\")"
   ]
  },
  {
   "cell_type": "markdown",
   "metadata": {},
   "source": [
    "# Nodes"
   ]
  },
  {
   "cell_type": "markdown",
   "metadata": {},
   "source": [
    "### Nacteni dat - game_plays, player_info, team_info"
   ]
  },
  {
   "cell_type": "code",
   "execution_count": 100,
   "metadata": {},
   "outputs": [],
   "source": [
    "plays = sqlContext.read.option(\"header\", \"true\").option(\"delimiter\", \",\").csv(\"game_plays.csv\")"
   ]
  },
  {
   "cell_type": "code",
   "execution_count": 110,
   "metadata": {},
   "outputs": [],
   "source": [
    "player_info = sqlContext.read.option(\"header\", \"true\").option(\"delimiter\", \",\").csv(\"player_info.csv\")"
   ]
  },
  {
   "cell_type": "code",
   "execution_count": 130,
   "metadata": {},
   "outputs": [],
   "source": [
    "team_info = sqlContext.read.option(\"header\", \"true\").option(\"delimiter\", \",\").csv(\"team_info.csv\")"
   ]
  },
  {
   "cell_type": "markdown",
   "metadata": {},
   "source": [
    "#### filtrace sezony"
   ]
  },
  {
   "cell_type": "code",
   "execution_count": 102,
   "metadata": {},
   "outputs": [],
   "source": [
    "plays_filtered = plays.where(\"game_id > 2017090000\")"
   ]
  },
  {
   "cell_type": "markdown",
   "metadata": {},
   "source": [
    "#### nacteni hracu a golmanu z goals_goalie definovanych u hran"
   ]
  },
  {
   "cell_type": "code",
   "execution_count": 117,
   "metadata": {},
   "outputs": [],
   "source": [
    "players_list = goals_goalie.where(\"playerType IN ('Scorer','Goalie')\").select('play_id_player','player_id','playerType')"
   ]
  },
  {
   "cell_type": "code",
   "execution_count": 166,
   "metadata": {},
   "outputs": [
    {
     "name": "stdout",
     "output_type": "stream",
     "text": [
      "+--------------+---------+----------+\n",
      "|play_id_player|player_id|playerType|\n",
      "+--------------+---------+----------+\n",
      "|2018020014_261|  8477930|    Scorer|\n",
      "|2018020014_261|  8470880|    Goalie|\n",
      "|  2018020020_9|  8475151|    Scorer|\n",
      "|  2018020020_9|  8475660|    Goalie|\n",
      "|2018020084_115|  8476460|    Scorer|\n",
      "+--------------+---------+----------+\n",
      "only showing top 5 rows\n",
      "\n"
     ]
    }
   ],
   "source": [
    "players_list.show(5)"
   ]
  },
  {
   "cell_type": "markdown",
   "metadata": {},
   "source": [
    "#### pravy orez game_plays pouze na strelce a golmany podle play_id"
   ]
  },
  {
   "cell_type": "code",
   "execution_count": 118,
   "metadata": {},
   "outputs": [],
   "source": [
    "players_teams = plays_filtered.join(players_list, plays_filtered[\"play_id\"] == players_list[\"play_id_player\"], how = 'right')"
   ]
  },
  {
   "cell_type": "code",
   "execution_count": 167,
   "metadata": {},
   "outputs": [
    {
     "name": "stdout",
     "output_type": "stream",
     "text": [
      "+--------------+----------+--------+-----------+---------------+-----+-------------+---+---+------+----------+----------+-------------------+-------------------+----------+----------+--------------------+----+----+---------+--------------+---------+----------+\n",
      "|       play_id|   game_id|play_num|team_id_for|team_id_against|event|secondaryType|  x|  y|period|periodType|periodTime|periodTimeRemaining|           dateTime|goals_away|goals_home|         description|st_x|st_y|rink_side|play_id_player|player_id|playerType|\n",
      "+--------------+----------+--------+-----------+---------------+-----+-------------+---+---+------+----------+----------+-------------------+-------------------+----------+----------+--------------------+----+----+---------+--------------+---------+----------+\n",
      "|2018020014_261|2018020014|     261|         54|              4| Goal|   Wrist Shot|-82| -2|     3|   REGULAR|       508|                692|2018-10-05 04:19:53|         5|         2|Pierre-Edouard Be...|  82|   2|       NA|2018020014_261|  8477930|    Scorer|\n",
      "|2018020014_261|2018020014|     261|         54|              4| Goal|   Wrist Shot|-82| -2|     3|   REGULAR|       508|                692|2018-10-05 04:19:53|         5|         2|Pierre-Edouard Be...|  82|   2|       NA|2018020014_261|  8470880|    Goalie|\n",
      "|  2018020020_9|2018020020|       9|          1|             22| Goal|    Snap Shot| 85| 17|     1|   REGULAR|        58|               1142|2018-10-06 23:16:50|         0|         1|Kyle Palmieri (1)...|  85|  17|     left|  2018020020_9|  8475151|    Scorer|\n",
      "|  2018020020_9|2018020020|       9|          1|             22| Goal|    Snap Shot| 85| 17|     1|   REGULAR|        58|               1142|2018-10-06 23:16:50|         0|         1|Kyle Palmieri (1)...|  85|  17|     left|  2018020020_9|  8475660|    Goalie|\n",
      "|2018020084_115|2018020084|     115|         52|             22| Goal|   Wrist Shot| 66| -7|     2|   REGULAR|        62|               1138|2018-10-17 01:04:27|         1|         4|Mark Scheifele (2...|  66|  -7|     left|2018020084_115|  8476460|    Scorer|\n",
      "|2018020084_115|2018020084|     115|         52|             22| Goal|   Wrist Shot| 66| -7|     2|   REGULAR|        62|               1138|2018-10-17 01:04:27|         1|         4|Mark Scheifele (2...|  66|  -7|     left|2018020084_115|  8475660|    Goalie|\n",
      "|2018020089_196|2018020089|     196|         24|              2| Goal|       Tip-In| 80|  5|     3|   REGULAR|        42|               1158|2018-10-18 03:59:08|         0|         3|Adam Henrique (3)...|  80|   5|     left|2018020089_196|  8474641|    Scorer|\n",
      "|2018020089_196|2018020089|     196|         24|              2| Goal|       Tip-In| 80|  5|     3|   REGULAR|        42|               1158|2018-10-18 03:59:08|         0|         3|Adam Henrique (3)...|  80|   5|     left|2018020089_196|  8471306|    Goalie|\n",
      "|2018020092_128|2018020092|     128|         29|              4| Goal|   Wrist Shot|-80|  0|     2|   REGULAR|       282|                918|2018-10-19 00:11:24|         2|         3|Cam Atkinson (4) ...|  80|   0|    right|2018020092_128|  8474715|    Scorer|\n",
      "|2018020092_128|2018020092|     128|         29|              4| Goal|   Wrist Shot|-80|  0|     2|   REGULAR|       282|                918|2018-10-19 00:11:24|         2|         3|Cam Atkinson (4) ...|  80|   0|    right|2018020092_128|  8475717|    Goalie|\n",
      "+--------------+----------+--------+-----------+---------------+-----+-------------+---+---+------+----------+----------+-------------------+-------------------+----------+----------+--------------------+----+----+---------+--------------+---------+----------+\n",
      "only showing top 10 rows\n",
      "\n"
     ]
    }
   ],
   "source": [
    "players_teams.show(10)"
   ]
  },
  {
   "cell_type": "markdown",
   "metadata": {},
   "source": [
    "#### prirazeni kodu tymu jednotlivym hracum podle play_id - zde se muze stat, ze se hraci zmei tym po prestupu"
   ]
  },
  {
   "cell_type": "code",
   "execution_count": 121,
   "metadata": {},
   "outputs": [],
   "source": [
    "player_ids = players_teams.withColumn('team',F.expr(\"CASE WHEN playerType = 'Scorer' THEN team_id_for WHEN playerType = 'Goalie' THEN team_id_against END \"))"
   ]
  },
  {
   "cell_type": "code",
   "execution_count": 155,
   "metadata": {},
   "outputs": [],
   "source": [
    "player_team = player_ids.select('team',F.col('player_id').alias('player'),'playerType')"
   ]
  },
  {
   "cell_type": "markdown",
   "metadata": {},
   "source": [
    "#### join id hrace s detaily o hraci"
   ]
  },
  {
   "cell_type": "code",
   "execution_count": 156,
   "metadata": {},
   "outputs": [],
   "source": [
    "player_complete = player_team.join(player_info, player_team[\"player\"] == player_info[\"player_id\"], how = 'left')"
   ]
  },
  {
   "cell_type": "code",
   "execution_count": 168,
   "metadata": {},
   "outputs": [
    {
     "name": "stdout",
     "output_type": "stream",
     "text": [
      "+----+-------+----------+---------+--------------+---------+-----------+---------------+---------------+----------+--------------------+\n",
      "|team| player|playerType|player_id|     firstName| lastName|nationality|      birthCity|primaryPosition| birthDate|                link|\n",
      "+----+-------+----------+---------+--------------+---------+-----------+---------------+---------------+----------+--------------------+\n",
      "|  54|8477930|    Scorer|  8477930|Pierre-Edouard|Bellemare|        FRA|Le Blanc-Mesnil|             LW|1985-03-06|/api/v1/people/84...|\n",
      "|   4|8470880|    Goalie|  8470880|         Brian|  Elliott|        CAN|      Newmarket|              G|1985-04-09|/api/v1/people/84...|\n",
      "|   1|8475151|    Scorer|  8475151|          Kyle| Palmieri|        USA|      Smithtown|             RW|1991-02-01|/api/v1/people/84...|\n",
      "|  22|8475660|    Goalie|  8475660|           Cam|   Talbot|        CAN|      Caledonia|              G|1987-07-05|/api/v1/people/84...|\n",
      "|  52|8476460|    Scorer|  8476460|          Mark|Scheifele|        CAN|      Kitchener|              C|1993-03-15|/api/v1/people/84...|\n",
      "+----+-------+----------+---------+--------------+---------+-----------+---------------+---------------+----------+--------------------+\n",
      "only showing top 5 rows\n",
      "\n"
     ]
    }
   ],
   "source": [
    "player_complete.show(5)"
   ]
  },
  {
   "cell_type": "markdown",
   "metadata": {},
   "source": [
    "#### join informaci o hraci s tymem, prejmenovani atributu"
   ]
  },
  {
   "cell_type": "code",
   "execution_count": 157,
   "metadata": {},
   "outputs": [],
   "source": [
    "nodes = (player_complete.join(team_info, team_info[\"team_id\"] == player_complete[\"team\"],how = 'left')\n",
    "        .withColumn('name',F.expr(\"concat(firstName,' ',lastName)\")).withColumn('fullTeamName',F.expr(\"concat(shortName,' ',teamName)\"))\n",
    "        .select('player_id','name','nationality','primaryPosition','playerType','birthDate','fullTeamName','abbreviation').distinct())"
   ]
  },
  {
   "cell_type": "code",
   "execution_count": 169,
   "metadata": {},
   "outputs": [
    {
     "name": "stdout",
     "output_type": "stream",
     "text": [
      "+---------+-------------+-----------+---------------+----------+----------+--------------------+------------+\n",
      "|player_id|         name|nationality|primaryPosition|playerType| birthDate|        fullTeamName|abbreviation|\n",
      "+---------+-------------+-----------+---------------+----------+----------+--------------------+------------+\n",
      "|  8478466|Daniel Sprong|        NLD|             RW|    Scorer|1997-03-17|       Anaheim Ducks|         ANA|\n",
      "|  8477901|  Daniel Carr|        CAN|             LW|    Scorer|1991-11-01|Vegas Golden Knights|         VGK|\n",
      "+---------+-------------+-----------+---------------+----------+----------+--------------------+------------+\n",
      "only showing top 2 rows\n",
      "\n"
     ]
    }
   ],
   "source": [
    "nodes.show(2)"
   ]
  },
  {
   "cell_type": "markdown",
   "metadata": {},
   "source": [
    "#### export uzlu"
   ]
  },
  {
   "cell_type": "code",
   "execution_count": 159,
   "metadata": {},
   "outputs": [],
   "source": [
    "nodes.repartition(1).write.csv('nodes',sep=\",\")"
   ]
  },
  {
   "cell_type": "code",
   "execution_count": null,
   "metadata": {},
   "outputs": [],
   "source": []
  }
 ],
 "metadata": {
  "kernelspec": {
   "display_name": "Python 3.7 (Spark 2.4)",
   "language": "python",
   "name": "pyspark3-2.4.3-2.4.3"
  },
  "language_info": {
   "codemirror_mode": {
    "name": "ipython",
    "version": 3
   },
   "file_extension": ".py",
   "mimetype": "text/x-python",
   "name": "python",
   "nbconvert_exporter": "python",
   "pygments_lexer": "ipython3",
   "version": "3.7.7"
  }
 },
 "nbformat": 4,
 "nbformat_minor": 4
}
