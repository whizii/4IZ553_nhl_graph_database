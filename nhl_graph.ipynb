{
 "cells": [
  {
   "cell_type": "code",
   "execution_count": 1,
   "metadata": {},
   "outputs": [
    {
     "data": {
      "text/html": [
       "\n",
       "            <div>\n",
       "                <p><b>SparkSession - hive</b></p>\n",
       "                \n",
       "        <div>\n",
       "            <p><b>SparkContext</b></p>\n",
       "\n",
       "            <p><a href=\"http://xxxxxxxx.com:33452\">Spark UI</a></p>\n",
       "\n",
       "            <dl>\n",
       "              <dt>Version</dt>\n",
       "                <dd><code>v2.4.3</code></dd>\n",
       "              <dt>Master</dt>\n",
       "                <dd><code>yarn</code></dd>\n",
       "              <dt>AppName</dt>\n",
       "                <dd><code>pyspark-shell</code></dd>\n",
       "            </dl>\n",
       "        </div>\n",
       "        \n",
       "            </div>\n",
       "        "
      ],
      "text/plain": [
       "<pyspark.sql.session.SparkSession at 0x7fb60004c450>"
      ]
     },
     "execution_count": 1,
     "metadata": {},
     "output_type": "execute_result"
    }
   ],
   "source": [
    "spark"
   ]
  },
  {
   "cell_type": "code",
   "execution_count": 2,
   "metadata": {},
   "outputs": [],
   "source": [
    "import pyspark.sql.functions as F\n",
    "import pyspark.sql.types as T\n",
    "from datetime import datetime, timedelta\n",
    "import argparse"
   ]
  },
  {
   "cell_type": "markdown",
   "metadata": {},
   "source": [
    "# Edges"
   ]
  },
  {
   "cell_type": "markdown",
   "metadata": {},
   "source": [
    "##### Nacteni dat"
   ]
  },
  {
   "cell_type": "code",
   "execution_count": 6,
   "metadata": {},
   "outputs": [],
   "source": [
    "game_plays = sqlContext.read.option(\"header\", \"true\").option(\"delimiter\", \",\").csv(\"skola\")"
   ]
  },
  {
   "cell_type": "markdown",
   "metadata": {},
   "source": [
    "##### Filtrace play_id, ve kterych padl gol a sezony"
   ]
  },
  {
   "cell_type": "code",
   "execution_count": 12,
   "metadata": {},
   "outputs": [],
   "source": [
    "goals = game_plays.select('play_id').where(\"playerType = 'Scorer'\").where(\"game_id > 2017090000\")"
   ]
  },
  {
   "cell_type": "code",
   "execution_count": 160,
   "metadata": {},
   "outputs": [
    {
     "name": "stdout",
     "output_type": "stream",
     "text": [
      "+--------------+\n",
      "|       play_id|\n",
      "+--------------+\n",
      "| 2018020001_44|\n",
      "| 2018020001_68|\n",
      "|2018020001_213|\n",
      "+--------------+\n",
      "only showing top 3 rows\n",
      "\n"
     ]
    }
   ],
   "source": [
    "goals.show(3)"
   ]
  },
  {
   "cell_type": "markdown",
   "metadata": {},
   "source": [
    "##### Pravy join na game_plays"
   ]
  },
  {
   "cell_type": "code",
   "execution_count": 173,
   "metadata": {},
   "outputs": [],
   "source": [
    "goals_goalie = game_plays.join(goals, game_plays[\"play_id\"] == goals[\"play_id\"], how='right').withColumn('play_id_player',game_plays['play_id']).withColumn('play_id_goalie',game_plays['play_id']).withColumn('play_id_assist',game_plays['play_id'])"
   ]
  },
  {
   "cell_type": "code",
   "execution_count": 174,
   "metadata": {},
   "outputs": [
    {
     "name": "stdout",
     "output_type": "stream",
     "text": [
      "+--------------+----------+--------+---------+----------+--------------+--------------+--------------+--------------+\n",
      "|       play_id|   game_id|play_num|player_id|playerType|       play_id|play_id_player|play_id_goalie|play_id_assist|\n",
      "+--------------+----------+--------+---------+----------+--------------+--------------+--------------+--------------+\n",
      "|2018020014_261|2018020014|     261|  8477930|    Scorer|2018020014_261|2018020014_261|2018020014_261|2018020014_261|\n",
      "|2018020014_261|2018020014|     261|  8470880|    Goalie|2018020014_261|2018020014_261|2018020014_261|2018020014_261|\n",
      "|  2018020020_9|2018020020|       9|  8475151|    Scorer|  2018020020_9|  2018020020_9|  2018020020_9|  2018020020_9|\n",
      "|  2018020020_9|2018020020|       9|  8476923|    Assist|  2018020020_9|  2018020020_9|  2018020020_9|  2018020020_9|\n",
      "|  2018020020_9|2018020020|       9|  8475660|    Goalie|  2018020020_9|  2018020020_9|  2018020020_9|  2018020020_9|\n",
      "+--------------+----------+--------+---------+----------+--------------+--------------+--------------+--------------+\n",
      "only showing top 5 rows\n",
      "\n"
     ]
    }
   ],
   "source": [
    "goals_goalie.show(5)"
   ]
  },
  {
   "cell_type": "code",
   "execution_count": 62,
   "metadata": {},
   "outputs": [],
   "source": [
    "players = goals_goalie.where(\"playerType = 'Scorer'\").select('play_id_player',F.col('game_id').alias('game_id_player'),F.col('player_id').alias('player_id_player'),F.col('playerType').alias('playerTypePlayer'))"
   ]
  },
  {
   "cell_type": "code",
   "execution_count": 63,
   "metadata": {},
   "outputs": [],
   "source": [
    "goalies = goals_goalie.where(\"playerType = 'Goalie'\").select('play_id_goalie',F.col('game_id').alias('game_id_goalie'),F.col('player_id').alias('player_id_goalie'),F.col('playerType').alias('playerTypeGoalie'))"
   ]
  },
  {
   "cell_type": "markdown",
   "metadata": {},
   "source": [
    "##### Inner join hracu a golmanu - zmena struktury"
   ]
  },
  {
   "cell_type": "code",
   "execution_count": 67,
   "metadata": {},
   "outputs": [],
   "source": [
    "df = players.join(goalies,players[\"play_id_player\"] == goalies[\"play_id_goalie\"])"
   ]
  },
  {
   "cell_type": "code",
   "execution_count": 162,
   "metadata": {},
   "outputs": [
    {
     "name": "stdout",
     "output_type": "stream",
     "text": [
      "+--------------+--------------+----------------+----------------+--------------+--------------+----------------+----------------+\n",
      "|play_id_player|game_id_player|player_id_player|playerTypePlayer|play_id_goalie|game_id_goalie|player_id_goalie|playerTypeGoalie|\n",
      "+--------------+--------------+----------------+----------------+--------------+--------------+----------------+----------------+\n",
      "|2018020014_261|    2018020014|         8477930|          Scorer|2018020014_261|    2018020014|         8470880|          Goalie|\n",
      "|  2018020020_9|    2018020020|         8475151|          Scorer|  2018020020_9|    2018020020|         8475660|          Goalie|\n",
      "|2018020084_115|    2018020084|         8476460|          Scorer|2018020084_115|    2018020084|         8475660|          Goalie|\n",
      "|2018020089_196|    2018020089|         8474641|          Scorer|2018020089_196|    2018020089|         8471306|          Goalie|\n",
      "|2018020092_128|    2018020092|         8474715|          Scorer|2018020092_128|    2018020092|         8475717|          Goalie|\n",
      "|2018020094_244|    2018020094|         8473412|          Scorer|2018020094_244|    2018020094|         8475195|          Goalie|\n",
      "|2018020098_289|    2018020098|         8470794|          Scorer|2018020098_289|    2018020098|         8475622|          Goalie|\n",
      "|2018020101_179|    2018020101|         8479314|          Scorer|2018020101_179|    2018020101|         8471469|          Goalie|\n",
      "|  2018020120_9|    2018020120|         8475158|          Scorer|  2018020120_9|    2018020120|         8476945|          Goalie|\n",
      "|2018020127_179|    2018020127|         8476483|          Scorer|2018020127_179|    2018020127|         8470645|          Goalie|\n",
      "+--------------+--------------+----------------+----------------+--------------+--------------+----------------+----------------+\n",
      "only showing top 10 rows\n",
      "\n"
     ]
    }
   ],
   "source": [
    "df.show(10)"
   ]
  },
  {
   "cell_type": "markdown",
   "metadata": {},
   "source": [
    "##### Vytvoreni vztahu hrac -> golman, pocet golu"
   ]
  },
  {
   "cell_type": "code",
   "execution_count": 214,
   "metadata": {},
   "outputs": [],
   "source": [
    "edges = df.groupBy('player_id_player','player_id_goalie').agg(F.count('*').alias('weight'))"
   ]
  },
  {
   "cell_type": "code",
   "execution_count": 215,
   "metadata": {},
   "outputs": [],
   "source": [
    "final_edges = edges.select(F.col('player_id_player').alias('Source'),F.col('player_id_goalie').alias('Target'),'weight').withColumn('Relationship',F.lit('GOAL'))"
   ]
  },
  {
   "cell_type": "code",
   "execution_count": 216,
   "metadata": {},
   "outputs": [
    {
     "name": "stdout",
     "output_type": "stream",
     "text": [
      "+-------+-------+------+------------+\n",
      "| Source| Target|weight|Relationship|\n",
      "+-------+-------+------+------------+\n",
      "|8478366|8474651|     1|        GOAL|\n",
      "|8474884|8476876|     2|        GOAL|\n",
      "|8477511|8470860|     3|        GOAL|\n",
      "|8479337|8476343|     2|        GOAL|\n",
      "|8479395|8476914|     1|        GOAL|\n",
      "|8474679|8471306|     1|        GOAL|\n",
      "|8470047|8475195|     2|        GOAL|\n",
      "|8471709|8475831|     2|        GOAL|\n",
      "|8474009|8473575|     1|        GOAL|\n",
      "|8468508|8475195|     2|        GOAL|\n",
      "+-------+-------+------+------------+\n",
      "only showing top 10 rows\n",
      "\n"
     ]
    }
   ],
   "source": [
    "final_edges.show(10)"
   ]
  },
  {
   "cell_type": "markdown",
   "metadata": {},
   "source": [
    "#### Asistence"
   ]
  },
  {
   "cell_type": "code",
   "execution_count": 177,
   "metadata": {},
   "outputs": [],
   "source": [
    "assist = goals_goalie.where(\"playerType = 'Assist'\").select('play_id_assist',F.col('game_id').alias('game_id_assist'),F.col('player_id').alias('assist_id_player'),F.col('playerType').alias('assistTypePlayer'))"
   ]
  },
  {
   "cell_type": "code",
   "execution_count": 201,
   "metadata": {},
   "outputs": [],
   "source": [
    "assist_scorer = assist.join(players,assist[\"play_id_assist\"] == players[\"play_id_player\"],how = 'left')"
   ]
  },
  {
   "cell_type": "code",
   "execution_count": 211,
   "metadata": {},
   "outputs": [],
   "source": [
    "edges_assist = assist_scorer.groupBy('assist_id_player','player_id_player').agg(F.count('*').alias('weight'))"
   ]
  },
  {
   "cell_type": "code",
   "execution_count": 212,
   "metadata": {},
   "outputs": [],
   "source": [
    "final_edges_assist = edges_assist.select(F.col('assist_id_player').alias('Source'),F.col('player_id_player').alias('Target'),'weight').withColumn('Relationship',F.lit('ASSIST'))"
   ]
  },
  {
   "cell_type": "code",
   "execution_count": 213,
   "metadata": {},
   "outputs": [
    {
     "name": "stdout",
     "output_type": "stream",
     "text": [
      "+-------+-------+------+------------+\n",
      "| Source| Target|weight|Relationship|\n",
      "+-------+-------+------+------------+\n",
      "|8475832|8475754|     4|      ASSIST|\n",
      "|8470606|8474563|     2|      ASSIST|\n",
      "|8475799|8470610|     6|      ASSIST|\n",
      "|8478099|8474679|     1|      ASSIST|\n",
      "|8475768|8476441|     2|      ASSIST|\n",
      "|8473933|8476889|     1|      ASSIST|\n",
      "|8478500|8478439|     2|      ASSIST|\n",
      "|8473604|8476886|     1|      ASSIST|\n",
      "|8474149|8474884|     3|      ASSIST|\n",
      "|8475167|8477454|     1|      ASSIST|\n",
      "+-------+-------+------+------------+\n",
      "only showing top 10 rows\n",
      "\n"
     ]
    }
   ],
   "source": [
    "final_edges_assist.show(10)"
   ]
  },
  {
   "cell_type": "code",
   "execution_count": 217,
   "metadata": {},
   "outputs": [],
   "source": [
    "export = final_edges.union(final_edges_assist)"
   ]
  },
  {
   "cell_type": "code",
   "execution_count": 218,
   "metadata": {},
   "outputs": [
    {
     "name": "stdout",
     "output_type": "stream",
     "text": [
      "root\n",
      " |-- Source: string (nullable = true)\n",
      " |-- Target: string (nullable = true)\n",
      " |-- weight: long (nullable = false)\n",
      " |-- Relationship: string (nullable = false)\n",
      "\n"
     ]
    }
   ],
   "source": [
    "export.printSchema()"
   ]
  },
  {
   "cell_type": "markdown",
   "metadata": {},
   "source": [
    "##### Export hran"
   ]
  },
  {
   "cell_type": "code",
   "execution_count": 224,
   "metadata": {},
   "outputs": [],
   "source": [
    "export.repartition(1).write.csv('nhl_edges_export',sep=\",\")"
   ]
  },
  {
   "cell_type": "markdown",
   "metadata": {},
   "source": [
    "# Nodes"
   ]
  },
  {
   "cell_type": "markdown",
   "metadata": {},
   "source": [
    "### Nacteni dat - game_plays, player_info, team_info"
   ]
  },
  {
   "cell_type": "code",
   "execution_count": 100,
   "metadata": {},
   "outputs": [],
   "source": [
    "plays = sqlContext.read.option(\"header\", \"true\").option(\"delimiter\", \",\").csv(\"game_plays.csv\")"
   ]
  },
  {
   "cell_type": "code",
   "execution_count": 110,
   "metadata": {},
   "outputs": [],
   "source": [
    "player_info = sqlContext.read.option(\"header\", \"true\").option(\"delimiter\", \",\").csv(\"player_info.csv\")"
   ]
  },
  {
   "cell_type": "code",
   "execution_count": 130,
   "metadata": {},
   "outputs": [],
   "source": [
    "team_info = sqlContext.read.option(\"header\", \"true\").option(\"delimiter\", \",\").csv(\"team_info.csv\")"
   ]
  },
  {
   "cell_type": "markdown",
   "metadata": {},
   "source": [
    "#### filtrace sezony"
   ]
  },
  {
   "cell_type": "code",
   "execution_count": 102,
   "metadata": {},
   "outputs": [],
   "source": [
    "plays_filtered = plays.where(\"game_id > 2017090000\")"
   ]
  },
  {
   "cell_type": "markdown",
   "metadata": {},
   "source": [
    "#### nacteni hracu a golmanu z goals_goalie definovanych u hran"
   ]
  },
  {
   "cell_type": "code",
   "execution_count": 180,
   "metadata": {},
   "outputs": [],
   "source": [
    "players_list = goals_goalie.where(\"playerType IN ('Scorer','Goalie','Assist')\").select('play_id_player','player_id','playerType')"
   ]
  },
  {
   "cell_type": "code",
   "execution_count": 181,
   "metadata": {},
   "outputs": [
    {
     "name": "stdout",
     "output_type": "stream",
     "text": [
      "+--------------+---------+----------+\n",
      "|play_id_player|player_id|playerType|\n",
      "+--------------+---------+----------+\n",
      "|2018020014_261|  8477930|    Scorer|\n",
      "|2018020014_261|  8470880|    Goalie|\n",
      "|  2018020020_9|  8475151|    Scorer|\n",
      "|  2018020020_9|  8476923|    Assist|\n",
      "|  2018020020_9|  8475660|    Goalie|\n",
      "+--------------+---------+----------+\n",
      "only showing top 5 rows\n",
      "\n"
     ]
    }
   ],
   "source": [
    "players_list.show(5)"
   ]
  },
  {
   "cell_type": "markdown",
   "metadata": {},
   "source": [
    "#### pravy orez game_plays pouze na strelce a golmany podle play_id"
   ]
  },
  {
   "cell_type": "code",
   "execution_count": 182,
   "metadata": {},
   "outputs": [],
   "source": [
    "players_teams = plays_filtered.join(players_list, plays_filtered[\"play_id\"] == players_list[\"play_id_player\"], how = 'right')"
   ]
  },
  {
   "cell_type": "code",
   "execution_count": 183,
   "metadata": {},
   "outputs": [
    {
     "name": "stdout",
     "output_type": "stream",
     "text": [
      "+--------------+----------+--------+-----------+---------------+-----+-------------+---+---+------+----------+----------+-------------------+-------------------+----------+----------+--------------------+----+----+---------+--------------+---------+----------+\n",
      "|       play_id|   game_id|play_num|team_id_for|team_id_against|event|secondaryType|  x|  y|period|periodType|periodTime|periodTimeRemaining|           dateTime|goals_away|goals_home|         description|st_x|st_y|rink_side|play_id_player|player_id|playerType|\n",
      "+--------------+----------+--------+-----------+---------------+-----+-------------+---+---+------+----------+----------+-------------------+-------------------+----------+----------+--------------------+----+----+---------+--------------+---------+----------+\n",
      "|2018020014_261|2018020014|     261|         54|              4| Goal|   Wrist Shot|-82| -2|     3|   REGULAR|       508|                692|2018-10-05 04:19:53|         5|         2|Pierre-Edouard Be...|  82|   2|       NA|2018020014_261|  8477930|    Scorer|\n",
      "|2018020014_261|2018020014|     261|         54|              4| Goal|   Wrist Shot|-82| -2|     3|   REGULAR|       508|                692|2018-10-05 04:19:53|         5|         2|Pierre-Edouard Be...|  82|   2|       NA|2018020014_261|  8470880|    Goalie|\n",
      "|  2018020020_9|2018020020|       9|          1|             22| Goal|    Snap Shot| 85| 17|     1|   REGULAR|        58|               1142|2018-10-06 23:16:50|         0|         1|Kyle Palmieri (1)...|  85|  17|     left|  2018020020_9|  8475151|    Scorer|\n",
      "|  2018020020_9|2018020020|       9|          1|             22| Goal|    Snap Shot| 85| 17|     1|   REGULAR|        58|               1142|2018-10-06 23:16:50|         0|         1|Kyle Palmieri (1)...|  85|  17|     left|  2018020020_9|  8476923|    Assist|\n",
      "|  2018020020_9|2018020020|       9|          1|             22| Goal|    Snap Shot| 85| 17|     1|   REGULAR|        58|               1142|2018-10-06 23:16:50|         0|         1|Kyle Palmieri (1)...|  85|  17|     left|  2018020020_9|  8475660|    Goalie|\n",
      "|2018020084_115|2018020084|     115|         52|             22| Goal|   Wrist Shot| 66| -7|     2|   REGULAR|        62|               1138|2018-10-17 01:04:27|         1|         4|Mark Scheifele (2...|  66|  -7|     left|2018020084_115|  8476460|    Scorer|\n",
      "|2018020084_115|2018020084|     115|         52|             22| Goal|   Wrist Shot| 66| -7|     2|   REGULAR|        62|               1138|2018-10-17 01:04:27|         1|         4|Mark Scheifele (2...|  66|  -7|     left|2018020084_115|  8479339|    Assist|\n",
      "|2018020084_115|2018020084|     115|         52|             22| Goal|   Wrist Shot| 66| -7|     2|   REGULAR|        62|               1138|2018-10-17 01:04:27|         1|         4|Mark Scheifele (2...|  66|  -7|     left|2018020084_115|  8477504|    Assist|\n",
      "|2018020084_115|2018020084|     115|         52|             22| Goal|   Wrist Shot| 66| -7|     2|   REGULAR|        62|               1138|2018-10-17 01:04:27|         1|         4|Mark Scheifele (2...|  66|  -7|     left|2018020084_115|  8475660|    Goalie|\n",
      "|2018020089_196|2018020089|     196|         24|              2| Goal|       Tip-In| 80|  5|     3|   REGULAR|        42|               1158|2018-10-18 03:59:08|         0|         3|Adam Henrique (3)...|  80|   5|     left|2018020089_196|  8474641|    Scorer|\n",
      "+--------------+----------+--------+-----------+---------------+-----+-------------+---+---+------+----------+----------+-------------------+-------------------+----------+----------+--------------------+----+----+---------+--------------+---------+----------+\n",
      "only showing top 10 rows\n",
      "\n"
     ]
    }
   ],
   "source": [
    "players_teams.show(10)"
   ]
  },
  {
   "cell_type": "markdown",
   "metadata": {},
   "source": [
    "#### prirazeni kodu tymu jednotlivym hracum podle play_id - zde se muze stat, ze se hraci zmei tym po prestupu"
   ]
  },
  {
   "cell_type": "code",
   "execution_count": 225,
   "metadata": {},
   "outputs": [],
   "source": [
    "player_ids = players_teams.withColumn('team',F.expr(\"CASE WHEN playerType IN ('Scorer','Assist') THEN team_id_for WHEN playerType = 'Goalie' THEN team_id_against END \"))"
   ]
  },
  {
   "cell_type": "code",
   "execution_count": 226,
   "metadata": {},
   "outputs": [],
   "source": [
    "player_team = player_ids.select('team',F.col('player_id').alias('player'),'playerType')"
   ]
  },
  {
   "cell_type": "markdown",
   "metadata": {},
   "source": [
    "#### join id hrace s detaily o hraci"
   ]
  },
  {
   "cell_type": "code",
   "execution_count": 235,
   "metadata": {},
   "outputs": [],
   "source": [
    "player_complete = player_team.join(player_info, player_team[\"player\"] == player_info[\"player_id\"], how = 'left')"
   ]
  },
  {
   "cell_type": "code",
   "execution_count": 240,
   "metadata": {},
   "outputs": [],
   "source": [
    "player_position = player_complete.withColumn('position',F.expr(\"CASE WHEN primaryPosition IN ('LW','RW','C','D') THEN 'Player' WHEN primaryPosition = 'G' THEN 'Goalie' END\"))"
   ]
  },
  {
   "cell_type": "markdown",
   "metadata": {},
   "source": [
    "#### join informaci o hraci s tymem, prejmenovani atributu"
   ]
  },
  {
   "cell_type": "code",
   "execution_count": 241,
   "metadata": {},
   "outputs": [],
   "source": [
    "nodes = (player_position.join(team_info, team_info[\"team_id\"] == player_position[\"team\"],how = 'left')\n",
    "        .withColumn('name',F.expr(\"concat(firstName,' ',lastName)\")).withColumn('fullTeamName',F.expr(\"concat(shortName,' ',teamName)\"))\n",
    "        .select('player_id','name','nationality','primaryPosition','position','birthDate','fullTeamName','abbreviation').distinct())"
   ]
  },
  {
   "cell_type": "code",
   "execution_count": 245,
   "metadata": {},
   "outputs": [
    {
     "name": "stdout",
     "output_type": "stream",
     "text": [
      "+---------+---------------+-----------+---------------+--------+----------+-------------------+------------+\n",
      "|player_id|           name|nationality|primaryPosition|position| birthDate|       fullTeamName|abbreviation|\n",
      "+---------+---------------+-----------+---------------+--------+----------+-------------------+------------+\n",
      "|  8467950| Craig Anderson|        USA|              G|  Goalie|1981-05-21|    Ottawa Senators|         OTT|\n",
      "|  8477365| Connor Clifton|        USA|              D|  Player|1995-04-28|      Boston Bruins|         BOS|\n",
      "|  8476624|Barclay Goodrow|        CAN|             RW|  Player|1993-02-26|    San Jose Sharks|         SJS|\n",
      "|  8475786|     Zach Hyman|        CAN|              C|  Player|1992-06-09|Toronto Maple Leafs|         TOR|\n",
      "|  8477951|  Nick Schmaltz|        USA|              C|  Player|1996-02-23|    Arizona Coyotes|         ARI|\n",
      "+---------+---------------+-----------+---------------+--------+----------+-------------------+------------+\n",
      "only showing top 5 rows\n",
      "\n"
     ]
    }
   ],
   "source": [
    "nodes.show(5)"
   ]
  },
  {
   "cell_type": "markdown",
   "metadata": {},
   "source": [
    "#### export uzlu"
   ]
  },
  {
   "cell_type": "code",
   "execution_count": 244,
   "metadata": {},
   "outputs": [],
   "source": [
    "nodes.repartition(1).write.csv('nodes_export_fix',sep=\",\")"
   ]
  },
  {
   "cell_type": "code",
   "execution_count": null,
   "metadata": {},
   "outputs": [],
   "source": []
  }
 ],
 "metadata": {
  "kernelspec": {
   "display_name": "Python 3.7 (Spark 2.4)",
   "language": "python",
   "name": "pyspark3-2.4.3-2.4.3"
  },
  "language_info": {
   "codemirror_mode": {
    "name": "ipython",
    "version": 3
   },
   "file_extension": ".py",
   "mimetype": "text/x-python",
   "name": "python",
   "nbconvert_exporter": "python",
   "pygments_lexer": "ipython3",
   "version": "3.7.7"
  }
 },
 "nbformat": 4,
 "nbformat_minor": 4
}
